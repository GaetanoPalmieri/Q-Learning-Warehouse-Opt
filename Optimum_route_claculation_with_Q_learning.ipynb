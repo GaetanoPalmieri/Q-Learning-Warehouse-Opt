{
 "cells": [
  {
   "cell_type": "code",
   "execution_count": 1,
   "metadata": {
    "pycharm": {
     "name": "#%%\n"
    }
   },
   "outputs": [],
   "source": [
    "import numpy as np\n",
    "\n",
    "# Setto i parameteri gamma e alpha per l'algoritmo Q-Learning.\n",
    "gamma = 0.75\n",
    "alpha = 0.9\n",
    "\n",
    "# Configurazione del magazzino:\n",
    "######################\n",
    "# A    B     C  #  D #\n",
    "#####                #\n",
    "# E #  F  #  G     H #\n",
    "#   #     #####      #\n",
    "# I    J     K     L #\n",
    "######################\n",
    "\n",
    "# Definisco gli stati\n",
    "states = {'A': 0, 'B': 1, 'C': 2, 'D': 3, 'E': 4, 'F': 5,\n",
    "                     'G': 6, 'H': 7, 'I': 8, 'J': 9, 'K': 10, 'L': 11}\n",
    "\n",
    "# Definisco le azioni\n",
    "actions = [0,1,2,3,4,5,6,7,8,9,10,11]\n",
    "\n",
    "# Definisco le rewards\n",
    "# (righe = ogni stato, colonne = ogni azione che porta ad un nuovo stato. 1: posso passare al nuovo stato, 0:no)\n",
    "R = np.array([[0,1,0,0,0,0,0,0,0,0,0,0],    # Da A posso andare solo in B\n",
    "              [1,0,1,0,0,1,0,0,0,0,0,0],    # Da B in A,C,F\n",
    "              [0,1,0,0,0,0,1,0,0,0,0,0],    # ....\n",
    "              [0,0,0,0,0,0,0,1,0,0,0,0],\n",
    "              [0,0,0,0,0,0,0,0,1,0,0,0],\n",
    "              [0,1,0,0,0,0,0,0,0,1,0,0],\n",
    "              [0,0,1,0,0,0,1,1,0,0,0,0],\n",
    "              [0,0,0,1,0,0,1,0,0,0,0,1],\n",
    "              [0,0,0,0,1,0,0,0,0,1,0,0],\n",
    "              [0,0,0,0,0,1,0,0,1,0,1,0],\n",
    "              [0,0,0,0,0,0,0,0,0,1,0,1],\n",
    "              [0,0,0,0,0,0,0,1,0,0,1,0]])"
   ]
  },
  {
   "cell_type": "code",
   "execution_count": 2,
   "metadata": {
    "pycharm": {
     "name": "#%%\n"
    }
   },
   "outputs": [],
   "source": [
    "# Mapping dagli stati alle locazioni\n",
    "state_to_location = {state: location for location, state in states.items()}"
   ]
  },
  {
   "cell_type": "code",
   "execution_count": 3,
   "metadata": {
    "pycharm": {
     "name": "#%%\n"
    }
   },
   "outputs": [],
   "source": [
    "# Implemento il processo del Q_learning\n",
    "def calculate_Q_values(R):\n",
    "    # Inizializzo gli Q-Values a 0\n",
    "    Q = np.array(np.zeros((R.shape[0], R.shape[1])))\n",
    "    # Calcolo gli Q_values\n",
    "    for i in range(1000):\n",
    "        current_state = np.random.randint(0, R.shape[1])  # seleziono un azione in modo random\n",
    "        py_actions = []\n",
    "        for action in range(R.shape[1]):\n",
    "            if R[current_state, action] > 0:\n",
    "                py_actions.append(action)\n",
    "        next_state = np.random.choice(py_actions)\n",
    "        # computo la TD\n",
    "        TD = R[current_state, next_state] + gamma * Q[next_state, np.argmax(Q[next_state,:])] \\\n",
    "         - Q[current_state, next_state]\n",
    "        # Update Q-value\n",
    "        Q[current_state, next_state] += alpha * TD\n",
    "    return Q"
   ]
  },
  {
   "cell_type": "code",
   "execution_count": 4,
   "metadata": {
    "pycharm": {
     "name": "#%%\n"
    }
   },
   "outputs": [],
   "source": [
    "# Calcolo il percorso dalla locazione di start a quella di end\n",
    "def route (starting_location, ending_location):\n",
    "    # Assegno una grande reward per la locazione target\n",
    "    R_new = np.copy(R)\n",
    "    ending_state = states[ending_location]\n",
    "    R_new[ending_state,ending_state] = 1000\n",
    "    Q = calculate_Q_values(R_new)\n",
    "\n",
    "    # Inizializzo il percorso\n",
    "    route=[starting_location]\n",
    "    next_location = starting_location\n",
    "    \n",
    "    # Calcolo il percorso ottimale\n",
    "    while (next_location != ending_location) :\n",
    "        starting_state = states[starting_location]  # converto la locazione nell'indice dello stato\n",
    "        next_state = np.argmax(Q[starting_state,:])\n",
    "        next_location = state_to_location[next_state]          # converto l'indice dello stato nella locazione\n",
    "        route.append(next_location)                            # append della locazione al percorso\n",
    "        starting_location = next_location\n",
    "    return route"
   ]
  },
  {
   "cell_type": "code",
   "execution_count": 6,
   "metadata": {
    "pycharm": {
     "name": "#%%\n"
    }
   },
   "outputs": [
    {
     "name": "stdout",
     "output_type": "stream",
     "text": [
      "Route From -> To\n"
     ]
    },
    {
     "data": {
      "text/plain": "['B', 'F', 'J']"
     },
     "execution_count": 6,
     "metadata": {},
     "output_type": "execute_result"
    }
   ],
   "source": [
    "print('Route From -> To')\n",
    "route('B', 'J')"
   ]
  },
  {
   "cell_type": "code",
   "execution_count": 7,
   "metadata": {
    "pycharm": {
     "name": "#%%\n"
    }
   },
   "outputs": [],
   "source": [
    "# Funzione per gestire locazioni intermedie prima della locazione di end\n",
    "def two_leg_route(starting_location, intermediate_location, ending_location):\n",
    "    return route(starting_location, intermediate_location)[:-1] + route(intermediate_location, ending_location)"
   ]
  },
  {
   "cell_type": "code",
   "execution_count": 9,
   "metadata": {
    "pycharm": {
     "name": "#%%\n"
    }
   },
   "outputs": [
    {
     "name": "stdout",
     "output_type": "stream",
     "text": [
      "Route From -> by -> To\n",
      "['B', 'F', 'J', 'I', 'E', 'I', 'J']\n"
     ]
    }
   ],
   "source": [
    "print('Route From -> by -> To')\n",
    "print(two_leg_route('B', 'E', 'J'))"
   ]
  }
 ],
 "metadata": {
  "kernelspec": {
   "name": "python3",
   "language": "python",
   "display_name": "Python 3 (ipykernel)"
  },
  "language_info": {
   "codemirror_mode": {
    "name": "ipython",
    "version": 3
   },
   "file_extension": ".py",
   "mimetype": "text/x-python",
   "name": "python",
   "nbconvert_exporter": "python",
   "pygments_lexer": "ipython3",
   "version": "3.7.8"
  }
 },
 "nbformat": 4,
 "nbformat_minor": 4
}